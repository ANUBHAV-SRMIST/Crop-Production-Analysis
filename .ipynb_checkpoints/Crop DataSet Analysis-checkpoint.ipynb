{
 "cells": [
  {
   "cell_type": "code",
   "execution_count": 1,
   "id": "0cca6221",
   "metadata": {},
   "outputs": [],
   "source": [
    "import pandas as pd,os"
   ]
  },
  {
   "cell_type": "code",
   "execution_count": 3,
   "id": "26828f5a-1d88-421a-9bb2-69e686d9f709",
   "metadata": {},
   "outputs": [],
   "source": [
    "import seaborn as  sns\n",
    "import matplotlib.pyplot as plt\n",
    "import numpy as np\n",
    "import warnings\n",
    "warnings.filterwarnings('ignore')"
   ]
  },
  {
   "cell_type": "code",
   "execution_count": 4,
   "id": "e0ed15d2-7fcd-4969-9074-4063e9214daa",
   "metadata": {},
   "outputs": [
    {
     "name": "stdout",
     "output_type": "stream",
     "text": [
      "['.ipynb_checkpoints', 'Crop DataSet Analysis.ipynb', 'Crop Production data.csv']\n"
     ]
    }
   ],
   "source": [
    "print(os.listdir())"
   ]
  },
  {
   "cell_type": "code",
   "execution_count": 6,
   "id": "a97e64fe-aeb3-45d6-832f-30d1bfaac761",
   "metadata": {},
   "outputs": [],
   "source": [
    "data=pd.read_csv('C:/Users/ASUS/Downloads/Crop Production Analysis/Crop Production data.csv')"
   ]
  },
  {
   "cell_type": "code",
   "execution_count": 7,
   "id": "2ab68635-9df1-4a06-9d61-d07dc29c9feb",
   "metadata": {},
   "outputs": [
    {
     "data": {
      "text/html": [
       "<div>\n",
       "<style scoped>\n",
       "    .dataframe tbody tr th:only-of-type {\n",
       "        vertical-align: middle;\n",
       "    }\n",
       "\n",
       "    .dataframe tbody tr th {\n",
       "        vertical-align: top;\n",
       "    }\n",
       "\n",
       "    .dataframe thead th {\n",
       "        text-align: right;\n",
       "    }\n",
       "</style>\n",
       "<table border=\"1\" class=\"dataframe\">\n",
       "  <thead>\n",
       "    <tr style=\"text-align: right;\">\n",
       "      <th></th>\n",
       "      <th>State_Name</th>\n",
       "      <th>District_Name</th>\n",
       "      <th>Crop_Year</th>\n",
       "      <th>Season</th>\n",
       "      <th>Crop</th>\n",
       "      <th>Area</th>\n",
       "      <th>Production</th>\n",
       "    </tr>\n",
       "  </thead>\n",
       "  <tbody>\n",
       "    <tr>\n",
       "      <th>0</th>\n",
       "      <td>Andaman and Nicobar Islands</td>\n",
       "      <td>NICOBARS</td>\n",
       "      <td>2000</td>\n",
       "      <td>Kharif</td>\n",
       "      <td>Arecanut</td>\n",
       "      <td>1254.0</td>\n",
       "      <td>2000.0</td>\n",
       "    </tr>\n",
       "    <tr>\n",
       "      <th>1</th>\n",
       "      <td>Andaman and Nicobar Islands</td>\n",
       "      <td>NICOBARS</td>\n",
       "      <td>2000</td>\n",
       "      <td>Kharif</td>\n",
       "      <td>Other Kharif pulses</td>\n",
       "      <td>2.0</td>\n",
       "      <td>1.0</td>\n",
       "    </tr>\n",
       "    <tr>\n",
       "      <th>2</th>\n",
       "      <td>Andaman and Nicobar Islands</td>\n",
       "      <td>NICOBARS</td>\n",
       "      <td>2000</td>\n",
       "      <td>Kharif</td>\n",
       "      <td>Rice</td>\n",
       "      <td>102.0</td>\n",
       "      <td>321.0</td>\n",
       "    </tr>\n",
       "    <tr>\n",
       "      <th>3</th>\n",
       "      <td>Andaman and Nicobar Islands</td>\n",
       "      <td>NICOBARS</td>\n",
       "      <td>2000</td>\n",
       "      <td>Whole Year</td>\n",
       "      <td>Banana</td>\n",
       "      <td>176.0</td>\n",
       "      <td>641.0</td>\n",
       "    </tr>\n",
       "    <tr>\n",
       "      <th>4</th>\n",
       "      <td>Andaman and Nicobar Islands</td>\n",
       "      <td>NICOBARS</td>\n",
       "      <td>2000</td>\n",
       "      <td>Whole Year</td>\n",
       "      <td>Cashewnut</td>\n",
       "      <td>720.0</td>\n",
       "      <td>165.0</td>\n",
       "    </tr>\n",
       "  </tbody>\n",
       "</table>\n",
       "</div>"
      ],
      "text/plain": [
       "                    State_Name District_Name  Crop_Year       Season  \\\n",
       "0  Andaman and Nicobar Islands      NICOBARS       2000  Kharif        \n",
       "1  Andaman and Nicobar Islands      NICOBARS       2000  Kharif        \n",
       "2  Andaman and Nicobar Islands      NICOBARS       2000  Kharif        \n",
       "3  Andaman and Nicobar Islands      NICOBARS       2000  Whole Year    \n",
       "4  Andaman and Nicobar Islands      NICOBARS       2000  Whole Year    \n",
       "\n",
       "                  Crop    Area  Production  \n",
       "0             Arecanut  1254.0      2000.0  \n",
       "1  Other Kharif pulses     2.0         1.0  \n",
       "2                 Rice   102.0       321.0  \n",
       "3               Banana   176.0       641.0  \n",
       "4            Cashewnut   720.0       165.0  "
      ]
     },
     "execution_count": 7,
     "metadata": {},
     "output_type": "execute_result"
    }
   ],
   "source": [
    "data.head()"
   ]
  },
  {
   "cell_type": "code",
   "execution_count": 8,
   "id": "a440abc6-31ce-416d-acc3-cf475a9df377",
   "metadata": {},
   "outputs": [
    {
     "data": {
      "text/plain": [
       "State_Name          0\n",
       "District_Name       0\n",
       "Crop_Year           0\n",
       "Season              0\n",
       "Crop                0\n",
       "Area                0\n",
       "Production       3730\n",
       "dtype: int64"
      ]
     },
     "execution_count": 8,
     "metadata": {},
     "output_type": "execute_result"
    }
   ],
   "source": [
    "data.isnull().sum()"
   ]
  },
  {
   "cell_type": "code",
   "execution_count": 9,
   "id": "f3ddda23-c98a-4bff-8768-625859297efc",
   "metadata": {},
   "outputs": [],
   "source": [
    "data.dropna(inplace=True)"
   ]
  },
  {
   "cell_type": "code",
   "execution_count": 10,
   "id": "92abba53-d69d-4c52-ba98-b039d0312f11",
   "metadata": {},
   "outputs": [
    {
     "data": {
      "text/plain": [
       "State_Name       0\n",
       "District_Name    0\n",
       "Crop_Year        0\n",
       "Season           0\n",
       "Crop             0\n",
       "Area             0\n",
       "Production       0\n",
       "dtype: int64"
      ]
     },
     "execution_count": 10,
     "metadata": {},
     "output_type": "execute_result"
    }
   ],
   "source": [
    "data.isnull().sum()"
   ]
  },
  {
   "cell_type": "code",
   "execution_count": 11,
   "id": "1c46469c-0d25-4eaa-8b67-3ecd6a13a2ec",
   "metadata": {},
   "outputs": [
    {
     "data": {
      "text/plain": [
       "array(['Kharif     ', 'Whole Year ', 'Autumn     ', 'Rabi       ',\n",
       "       'Summer     ', 'Winter     '], dtype=object)"
      ]
     },
     "execution_count": 11,
     "metadata": {},
     "output_type": "execute_result"
    }
   ],
   "source": [
    "data.Season.unique()"
   ]
  },
  {
   "cell_type": "code",
   "execution_count": 12,
   "id": "42e51b45-ef0d-4c3f-aa13-7d3c3d278d03",
   "metadata": {},
   "outputs": [],
   "source": [
    "data['Season']=data['Season'].apply(lambda x : x.strip())\n",
    "data['Crop']=data['Crop'].apply(lambda x : x.strip())\n",
    "data['Crop']=data['State_Name'].apply(lambda x : x.strip())\n"
   ]
  },
  {
   "cell_type": "code",
   "execution_count": 13,
   "id": "4044762f-bf2c-4c58-a60c-1bbe7b55c82d",
   "metadata": {},
   "outputs": [
    {
     "data": {
      "text/plain": [
       "array(['Kharif', 'Whole Year', 'Autumn', 'Rabi', 'Summer', 'Winter'],\n",
       "      dtype=object)"
      ]
     },
     "execution_count": 13,
     "metadata": {},
     "output_type": "execute_result"
    }
   ],
   "source": [
    "data.Season.unique()"
   ]
  },
  {
   "cell_type": "code",
   "execution_count": 14,
   "id": "7ea97e2a-fad2-44aa-8c4a-9780a989f618",
   "metadata": {},
   "outputs": [
    {
     "data": {
      "text/plain": [
       "Season\n",
       "Kharif        94283\n",
       "Rabi          66160\n",
       "Whole Year    56127\n",
       "Summer        14811\n",
       "Winter         6050\n",
       "Autumn         4930\n",
       "Name: count, dtype: int64"
      ]
     },
     "execution_count": 14,
     "metadata": {},
     "output_type": "execute_result"
    }
   ],
   "source": [
    "data['Season'].value_counts()"
   ]
  },
  {
   "cell_type": "code",
   "execution_count": 15,
   "id": "2f232e90-f181-4d98-b47b-6123c6605006",
   "metadata": {},
   "outputs": [],
   "source": [
    "data['Season']=data['Season'].apply(lambda x : x.replace('Autumn','Kharif'))\n",
    "data['Season']=data['Season'].apply(lambda x : x.replace('Summer','Kharif'))\n",
    "data['Season']=data['Season'].apply(lambda x : x.replace('Winter','Kharif'))"
   ]
  },
  {
   "cell_type": "code",
   "execution_count": 16,
   "id": "d76cf490-8d37-47c7-ae3a-bd8e1fc38fc2",
   "metadata": {},
   "outputs": [
    {
     "data": {
      "text/plain": [
       "Season\n",
       "Kharif        120074\n",
       "Rabi           66160\n",
       "Whole Year     56127\n",
       "Name: count, dtype: int64"
      ]
     },
     "execution_count": 16,
     "metadata": {},
     "output_type": "execute_result"
    }
   ],
   "source": [
    "data['Season'].value_counts()"
   ]
  },
  {
   "cell_type": "code",
   "execution_count": 22,
   "id": "9019a4c4-ea58-4d9e-b8d8-3591ae047852",
   "metadata": {},
   "outputs": [
    {
     "name": "stdout",
     "output_type": "stream",
     "text": [
      "After removing the row which has 0 Production : 238838\n"
     ]
    }
   ],
   "source": [
    "data.drop(data[data['Production']==0].index,inplace=True)\n",
    "\n",
    "print(f'After removing the row which has 0 Production : {data.shape[0]}')"
   ]
  },
  {
   "cell_type": "code",
   "execution_count": 20,
   "id": "127c6a0e-5f5b-4ad6-a56a-32d41126bf1b",
   "metadata": {},
   "outputs": [
    {
     "data": {
      "text/plain": [
       "array(['Andaman and Nicobar Islands', 'Andhra Pradesh',\n",
       "       'Arunachal Pradesh', 'Assam', 'Bihar', 'Chandigarh',\n",
       "       'Chhattisgarh', 'Dadra and Nagar Haveli', 'Goa', 'Gujarat',\n",
       "       'Haryana', 'Himachal Pradesh', 'Jammu and Kashmir', 'Jharkhand',\n",
       "       'Karnataka', 'Kerala', 'Madhya Pradesh', 'Maharashtra', 'Manipur',\n",
       "       'Meghalaya', 'Mizoram', 'Nagaland', 'Odisha', 'Puducherry',\n",
       "       'Punjab', 'Rajasthan', 'Sikkim', 'Tamil Nadu', 'Telangana',\n",
       "       'Tripura', 'Uttar Pradesh', 'Uttarakhand', 'West Bengal'],\n",
       "      dtype=object)"
      ]
     },
     "execution_count": 20,
     "metadata": {},
     "output_type": "execute_result"
    }
   ],
   "source": [
    "data.Crop.unique()"
   ]
  },
  {
   "cell_type": "code",
   "execution_count": 23,
   "id": "3765941b-4d07-405c-877c-4600cefca3ac",
   "metadata": {},
   "outputs": [],
   "source": [
    "data['Crop']=data['Crop'].apply(lambda x:x.replace('Kapas','Cotton(lint)')\n",
    "                                      .replace('Cotton(lint)','Cotton'))\n",
    "\n",
    "data.replace('Jute & mesta','Jute',inplace=True)\n",
    "data.replace('Mesta','Jute',inplace=True)"
   ]
  },
  {
   "cell_type": "code",
   "execution_count": 24,
   "id": "abf0a974-5eae-4d11-9013-75ac0d9f7848",
   "metadata": {},
   "outputs": [],
   "source": [
    "data['Crop']=data['Crop'].apply(lambda x:x.replace('Other Kharif pulses','pulses')\n",
    "                                    .replace('Other  Rabi pulses','pulses')\n",
    "                                    .replace('Peas & beans (Pulses)','pulses')\n",
    "                                    .replace('Pulses total','pulses')\n",
    "                                    .replace('other misc. pulses','pulses')\n",
    "                                    .replace('Moong(Green Gram)','pulses')\n",
    "                                    .replace('Urad','pulses')\n",
    "                                    .replace('Arhar/Tur','pulses')\n",
    "                                    .replace('Bean','pulses')\n",
    "                                    .replace('Ricebean (nagadal)','pulses')\n",
    "                                    .replace('Lentil','pulses')\n",
    "                                    .replace('Masoor','pulses')\n",
    "                                    .replace('Khesari','pulses')\n",
    "                                    .replace('Horse-gram','pulses')\n",
    "                                    .replace('Rajmash Kholar','pulses'))"
   ]
  },
  {
   "cell_type": "code",
   "execution_count": 25,
   "id": "d570ed7c-6f99-4374-bf17-8cf99f70de3d",
   "metadata": {},
   "outputs": [],
   "source": [
    "data['Crop']=data['Crop'].apply(lambda x:x\n",
    "                                    .replace('Atcanut (Raw)','Arecanut')\n",
    "                                    .replace('Arcanut (Processed)','Arecanut')\n",
    "                                    .replace('Arecanut','Arecanut'))"
   ]
  },
  {
   "cell_type": "code",
   "execution_count": 26,
   "id": "e1d207b6-e237-443c-ae7d-970545c17b6c",
   "metadata": {},
   "outputs": [],
   "source": [
    "data['Crop']=data['Crop'].apply(lambda x:x\n",
    "                                    .replace('Black pepper','Other Spices')\n",
    "                                    .replace('Cardamom','Other Spices')\n",
    "                                    .replace('Perilla','Other Spices'))"
   ]
  },
  {
   "cell_type": "code",
   "execution_count": 27,
   "id": "cdd9154e-5856-4f1a-a305-97141d6890d2",
   "metadata": {},
   "outputs": [],
   "source": [
    "data['Crop']=data['Crop'].apply(lambda x:x\n",
    "                                    .replace('Papaya','Fruits')\n",
    "                                    .replace('Mango','Fruits')\n",
    "                                     .replace('Orange','Fruits')\n",
    "                                     .replace('Other Fresh Fruits','Fruits')\n",
    "                                     .replace('Pineapple','Fruits')\n",
    "                                     .replace('Citrus Fruit','Fruits')\n",
    "                                     .replace('Pome Fruit','Fruits')\n",
    "                                     .replace('Pome Granet','Fruits')\n",
    "                                     .replace('Grapes','Fruits')\n",
    "                                     .replace('Jack Fruit','Fruits')\n",
    "                                     .replace('Sapota','Fruits')\n",
    "                                     .replace('Lemon','Fruits'))"
   ]
  },
  {
   "cell_type": "code",
   "execution_count": 28,
   "id": "d8c8bbd0-0011-480d-82b5-aab0792ac637",
   "metadata": {},
   "outputs": [
    {
     "data": {
      "text/plain": [
       "(238838, 7)"
      ]
     },
     "execution_count": 28,
     "metadata": {},
     "output_type": "execute_result"
    }
   ],
   "source": [
    "data.shape"
   ]
  },
  {
   "cell_type": "code",
   "execution_count": 29,
   "id": "41d30a33-ff8e-4c2c-a55f-5bda4ecd79e0",
   "metadata": {},
   "outputs": [
    {
     "name": "stdout",
     "output_type": "stream",
     "text": [
      "Number of Rows 238838\n",
      "Number of Columns 7\n"
     ]
    }
   ],
   "source": [
    "print(\"Number of Rows\",data.shape[0])\n",
    "print(\"Number of Columns\",data.shape[1])"
   ]
  },
  {
   "cell_type": "code",
   "execution_count": 30,
   "id": "38ab68ff-c25e-4f47-8857-92f796c8e5a3",
   "metadata": {},
   "outputs": [
    {
     "name": "stdout",
     "output_type": "stream",
     "text": [
      "<class 'pandas.core.frame.DataFrame'>\n",
      "Index: 238838 entries, 0 to 246090\n",
      "Data columns (total 7 columns):\n",
      " #   Column         Non-Null Count   Dtype  \n",
      "---  ------         --------------   -----  \n",
      " 0   State_Name     238838 non-null  object \n",
      " 1   District_Name  238838 non-null  object \n",
      " 2   Crop_Year      238838 non-null  int64  \n",
      " 3   Season         238838 non-null  object \n",
      " 4   Crop           238838 non-null  object \n",
      " 5   Area           238838 non-null  float64\n",
      " 6   Production     238838 non-null  float64\n",
      "dtypes: float64(2), int64(1), object(4)\n",
      "memory usage: 14.6+ MB\n"
     ]
    }
   ],
   "source": [
    "data.info()"
   ]
  },
  {
   "cell_type": "code",
   "execution_count": 31,
   "id": "1c28aef1-a30d-4db0-8722-4fda38085e44",
   "metadata": {},
   "outputs": [
    {
     "data": {
      "text/html": [
       "<div>\n",
       "<style scoped>\n",
       "    .dataframe tbody tr th:only-of-type {\n",
       "        vertical-align: middle;\n",
       "    }\n",
       "\n",
       "    .dataframe tbody tr th {\n",
       "        vertical-align: top;\n",
       "    }\n",
       "\n",
       "    .dataframe thead th {\n",
       "        text-align: right;\n",
       "    }\n",
       "</style>\n",
       "<table border=\"1\" class=\"dataframe\">\n",
       "  <thead>\n",
       "    <tr style=\"text-align: right;\">\n",
       "      <th></th>\n",
       "      <th>State_Name</th>\n",
       "      <th>District_Name</th>\n",
       "      <th>Crop_Year</th>\n",
       "      <th>Season</th>\n",
       "      <th>Crop</th>\n",
       "      <th>Area</th>\n",
       "      <th>Production</th>\n",
       "    </tr>\n",
       "  </thead>\n",
       "  <tbody>\n",
       "    <tr>\n",
       "      <th>0</th>\n",
       "      <td>False</td>\n",
       "      <td>False</td>\n",
       "      <td>False</td>\n",
       "      <td>False</td>\n",
       "      <td>False</td>\n",
       "      <td>False</td>\n",
       "      <td>False</td>\n",
       "    </tr>\n",
       "    <tr>\n",
       "      <th>1</th>\n",
       "      <td>False</td>\n",
       "      <td>False</td>\n",
       "      <td>False</td>\n",
       "      <td>False</td>\n",
       "      <td>False</td>\n",
       "      <td>False</td>\n",
       "      <td>False</td>\n",
       "    </tr>\n",
       "    <tr>\n",
       "      <th>2</th>\n",
       "      <td>False</td>\n",
       "      <td>False</td>\n",
       "      <td>False</td>\n",
       "      <td>False</td>\n",
       "      <td>False</td>\n",
       "      <td>False</td>\n",
       "      <td>False</td>\n",
       "    </tr>\n",
       "    <tr>\n",
       "      <th>3</th>\n",
       "      <td>False</td>\n",
       "      <td>False</td>\n",
       "      <td>False</td>\n",
       "      <td>False</td>\n",
       "      <td>False</td>\n",
       "      <td>False</td>\n",
       "      <td>False</td>\n",
       "    </tr>\n",
       "    <tr>\n",
       "      <th>4</th>\n",
       "      <td>False</td>\n",
       "      <td>False</td>\n",
       "      <td>False</td>\n",
       "      <td>False</td>\n",
       "      <td>False</td>\n",
       "      <td>False</td>\n",
       "      <td>False</td>\n",
       "    </tr>\n",
       "    <tr>\n",
       "      <th>...</th>\n",
       "      <td>...</td>\n",
       "      <td>...</td>\n",
       "      <td>...</td>\n",
       "      <td>...</td>\n",
       "      <td>...</td>\n",
       "      <td>...</td>\n",
       "      <td>...</td>\n",
       "    </tr>\n",
       "    <tr>\n",
       "      <th>246086</th>\n",
       "      <td>False</td>\n",
       "      <td>False</td>\n",
       "      <td>False</td>\n",
       "      <td>False</td>\n",
       "      <td>False</td>\n",
       "      <td>False</td>\n",
       "      <td>False</td>\n",
       "    </tr>\n",
       "    <tr>\n",
       "      <th>246087</th>\n",
       "      <td>False</td>\n",
       "      <td>False</td>\n",
       "      <td>False</td>\n",
       "      <td>False</td>\n",
       "      <td>False</td>\n",
       "      <td>False</td>\n",
       "      <td>False</td>\n",
       "    </tr>\n",
       "    <tr>\n",
       "      <th>246088</th>\n",
       "      <td>False</td>\n",
       "      <td>False</td>\n",
       "      <td>False</td>\n",
       "      <td>False</td>\n",
       "      <td>False</td>\n",
       "      <td>False</td>\n",
       "      <td>False</td>\n",
       "    </tr>\n",
       "    <tr>\n",
       "      <th>246089</th>\n",
       "      <td>False</td>\n",
       "      <td>False</td>\n",
       "      <td>False</td>\n",
       "      <td>False</td>\n",
       "      <td>False</td>\n",
       "      <td>False</td>\n",
       "      <td>False</td>\n",
       "    </tr>\n",
       "    <tr>\n",
       "      <th>246090</th>\n",
       "      <td>False</td>\n",
       "      <td>False</td>\n",
       "      <td>False</td>\n",
       "      <td>False</td>\n",
       "      <td>False</td>\n",
       "      <td>False</td>\n",
       "      <td>False</td>\n",
       "    </tr>\n",
       "  </tbody>\n",
       "</table>\n",
       "<p>238838 rows × 7 columns</p>\n",
       "</div>"
      ],
      "text/plain": [
       "        State_Name  District_Name  Crop_Year  Season   Crop   Area  Production\n",
       "0            False          False      False   False  False  False       False\n",
       "1            False          False      False   False  False  False       False\n",
       "2            False          False      False   False  False  False       False\n",
       "3            False          False      False   False  False  False       False\n",
       "4            False          False      False   False  False  False       False\n",
       "...            ...            ...        ...     ...    ...    ...         ...\n",
       "246086       False          False      False   False  False  False       False\n",
       "246087       False          False      False   False  False  False       False\n",
       "246088       False          False      False   False  False  False       False\n",
       "246089       False          False      False   False  False  False       False\n",
       "246090       False          False      False   False  False  False       False\n",
       "\n",
       "[238838 rows x 7 columns]"
      ]
     },
     "execution_count": 31,
     "metadata": {},
     "output_type": "execute_result"
    }
   ],
   "source": [
    "data.isnull()"
   ]
  },
  {
   "cell_type": "code",
   "execution_count": 32,
   "id": "df4593e1-3ba9-4be7-9e43-29d4d7c514d7",
   "metadata": {},
   "outputs": [
    {
     "data": {
      "text/html": [
       "<div>\n",
       "<style scoped>\n",
       "    .dataframe tbody tr th:only-of-type {\n",
       "        vertical-align: middle;\n",
       "    }\n",
       "\n",
       "    .dataframe tbody tr th {\n",
       "        vertical-align: top;\n",
       "    }\n",
       "\n",
       "    .dataframe thead th {\n",
       "        text-align: right;\n",
       "    }\n",
       "</style>\n",
       "<table border=\"1\" class=\"dataframe\">\n",
       "  <thead>\n",
       "    <tr style=\"text-align: right;\">\n",
       "      <th></th>\n",
       "      <th>Crop_Year</th>\n",
       "      <th>Area</th>\n",
       "      <th>Production</th>\n",
       "    </tr>\n",
       "  </thead>\n",
       "  <tbody>\n",
       "    <tr>\n",
       "      <th>count</th>\n",
       "      <td>238838.000000</td>\n",
       "      <td>2.388380e+05</td>\n",
       "      <td>2.388380e+05</td>\n",
       "    </tr>\n",
       "    <tr>\n",
       "      <th>mean</th>\n",
       "      <td>2005.676178</td>\n",
       "      <td>1.234239e+04</td>\n",
       "      <td>5.910957e+05</td>\n",
       "    </tr>\n",
       "    <tr>\n",
       "      <th>std</th>\n",
       "      <td>4.975472</td>\n",
       "      <td>5.120969e+04</td>\n",
       "      <td>1.719107e+07</td>\n",
       "    </tr>\n",
       "    <tr>\n",
       "      <th>min</th>\n",
       "      <td>1997.000000</td>\n",
       "      <td>1.000000e-01</td>\n",
       "      <td>1.000000e-02</td>\n",
       "    </tr>\n",
       "    <tr>\n",
       "      <th>25%</th>\n",
       "      <td>2002.000000</td>\n",
       "      <td>9.100000e+01</td>\n",
       "      <td>9.900000e+01</td>\n",
       "    </tr>\n",
       "    <tr>\n",
       "      <th>50%</th>\n",
       "      <td>2006.000000</td>\n",
       "      <td>6.340550e+02</td>\n",
       "      <td>7.840000e+02</td>\n",
       "    </tr>\n",
       "    <tr>\n",
       "      <th>75%</th>\n",
       "      <td>2010.000000</td>\n",
       "      <td>4.700000e+03</td>\n",
       "      <td>7.306270e+03</td>\n",
       "    </tr>\n",
       "    <tr>\n",
       "      <th>max</th>\n",
       "      <td>2015.000000</td>\n",
       "      <td>8.580100e+06</td>\n",
       "      <td>1.250800e+09</td>\n",
       "    </tr>\n",
       "  </tbody>\n",
       "</table>\n",
       "</div>"
      ],
      "text/plain": [
       "           Crop_Year          Area    Production\n",
       "count  238838.000000  2.388380e+05  2.388380e+05\n",
       "mean     2005.676178  1.234239e+04  5.910957e+05\n",
       "std         4.975472  5.120969e+04  1.719107e+07\n",
       "min      1997.000000  1.000000e-01  1.000000e-02\n",
       "25%      2002.000000  9.100000e+01  9.900000e+01\n",
       "50%      2006.000000  6.340550e+02  7.840000e+02\n",
       "75%      2010.000000  4.700000e+03  7.306270e+03\n",
       "max      2015.000000  8.580100e+06  1.250800e+09"
      ]
     },
     "execution_count": 32,
     "metadata": {},
     "output_type": "execute_result"
    }
   ],
   "source": [
    "data.describe()"
   ]
  },
  {
   "cell_type": "code",
   "execution_count": 40,
   "id": "9da3eb49-ae9c-4822-9d9a-21c007351ad8",
   "metadata": {},
   "outputs": [],
   "source": [
    "data['Crop']=data['Crop'].apply(lambda x:x\n",
    "                                    .replace('Papaya','Fruits')\n",
    "                                    .replace('Mango','Fruits')\n",
    "                                     .replace('Orange','Fruits')\n",
    "                                     .replace('Other Fresh Fruits','Fruits')\n",
    "                                     .replace('Pineapple','Fruits')\n",
    "                                     .replace('Citrus Fruit','Fruits')\n",
    "                                     .replace('Pome Fruit','Fruits')\n",
    "                                     .replace('Pome Granet','Fruits')\n",
    "                                     .replace('Grapes','Fruits')\n",
    "                                     .replace('Jack Fruit','Fruits')\n",
    "                                     .replace('Sapota','Fruits')\n",
    "                                     .replace('Lemon','Fruits'))"
   ]
  },
  {
   "cell_type": "code",
   "execution_count": 41,
   "id": "9f160a7b-ca8b-4351-ad9b-a48c2a899c68",
   "metadata": {},
   "outputs": [],
   "source": [
    "data['Crop']=data['Crop'].apply(lambda x:x\n",
    "                                    .replace('Ginger','Dry ginger'))\n",
    "\n",
    "data['Crop']=data['Crop'].apply(lambda x:x\n",
    "                                    .replace('Turnip','Onion'))\n",
    "\n",
    "data['Crop']=data['Crop'].apply(lambda x:x\n",
    "                                      .replace('Cashewnut Raw','Cashewnut')\n",
    "                                      .replace('Cashewnut Processed','Cashewnut'))"
   ]
  },
  {
   "cell_type": "code",
   "execution_count": 42,
   "id": "98b85901-1a6b-4756-a7bf-fa9795812567",
   "metadata": {},
   "outputs": [],
   "source": [
    "data['Crop']=data['Crop'].apply(lambda x:x\n",
    "                                      .replace('black gram','gram')\n",
    "                                     .replace('Moth','gram')\n",
    "                                     .replace('Blackgram','gram'))"
   ]
  },
  {
   "cell_type": "code",
   "execution_count": 43,
   "id": "be129114-fe00-4c56-b018-e2b4949ddb34",
   "metadata": {},
   "outputs": [],
   "source": [
    "data['Crop']=data['Crop'].apply(lambda x:x\n",
    "                                      .replace('Oilseeds total' ,'other oilseeds')\n",
    "                                      .replace('Niger seed' ,'other oilseeds'))"
   ]
  },
  {
   "cell_type": "code",
   "execution_count": 44,
   "id": "7e4eac4c-63fc-47c4-8d87-d3aad799c15e",
   "metadata": {},
   "outputs": [],
   "source": [
    "data['Crop']=data['Crop'].apply(lambda x:x\n",
    "                                      .replace('Other Cereals & Millets' ,'Bajra')\n",
    "                                      .replace('Samai' ,'Bajra')\n",
    "                                      .replace('Small millets' ,'Bajra')\n",
    "                                      .replace('Ragi','Bajra')\n",
    "                                      .replace('Varagu','Bajra')\n",
    "                                      .replace('Jobster','Bajra'))"
   ]
  },
  {
   "cell_type": "code",
   "execution_count": 45,
   "id": "e1681a65-9c09-4064-ada2-4ad47a7b79d7",
   "metadata": {},
   "outputs": [],
   "source": [
    "data['Crop']=data['Crop'].apply(lambda x:x\n",
    "                                     .replace('Coriander' ,'Other Vegetables')\n",
    "                                     .replace('pulsess & Mutter(Vegetable)' ,'Other Vegetables')\n",
    "                                     .replace('Bhindi' ,'Other Vegetables')\n",
    "                                     .replace('Tomato','Other Vegetables')\n",
    "                                     .replace('Cowpea(Lobia)','Other Vegetables')\n",
    "                                     .replace('Cabbage','Other Vegetables')\n",
    "                                     .replace('Carrot','Other Vegetables')\n",
    "                                     .replace('Drum Stick','Other Vegetables')\n",
    "                                     .replace('Redish','Other Vegetables')\n",
    "                                     .replace('Cauliflower','Other Vegetables')\n",
    "                                     .replace('Colocosia','Other Vegetables')\n",
    "                                     .replace('Brinjal','Other Vegetables')\n",
    "                                     .replace('Bottle Gourd','Other Vegetables')\n",
    "                                     .replace('Bitter Gourd','Other Vegetables'))"
   ]
  },
  {
   "cell_type": "code",
   "execution_count": 47,
   "id": "65b769dc-f8ce-4157-8532-9f308ff4ef19",
   "metadata": {},
   "outputs": [],
   "source": [
    "data.drop(data[data['Crop']=='Tea'].index,inplace=True)\n",
    "data.drop(data[data['Crop']=='Coffee'].index,inplace=True)\n",
    "data.drop(data[data['Crop']=='Rubber'].index,inplace=True)\n",
    "data.drop(data[data['Crop']=='Cond-spcs other'].index,inplace=True)"
   ]
  },
  {
   "cell_type": "code",
   "execution_count": 48,
   "id": "94a33387-55fd-412e-bdf8-598691230527",
   "metadata": {},
   "outputs": [
    {
     "data": {
      "text/plain": [
       "array(['Andaman and Nicobar Islands', 'Andhra Pradesh',\n",
       "       'Arunachal Pradesh', 'Assam', 'Bihar', 'Chandigarh',\n",
       "       'Chhattisgarh', 'Dadra and Nagar Haveli', 'Goa', 'Gujarat',\n",
       "       'Haryana', 'Himachal Pradesh', 'Jammu and Kashmir', 'Jharkhand',\n",
       "       'Karnataka', 'Kerala', 'Madhya Pradesh', 'Maharashtra', 'Manipur',\n",
       "       'Meghalaya', 'Mizoram', 'Nagaland', 'Odisha', 'Puducherry',\n",
       "       'Punjab', 'Rajasthan', 'Sikkim', 'Tamil Nadu', 'Telangana',\n",
       "       'Tripura', 'Uttar Pradesh', 'Uttarakhand', 'West Bengal'],\n",
       "      dtype=object)"
      ]
     },
     "execution_count": 48,
     "metadata": {},
     "output_type": "execute_result"
    }
   ],
   "source": [
    "data.Crop.unique()"
   ]
  },
  {
   "cell_type": "code",
   "execution_count": 49,
   "id": "3574b64a-6ec0-4870-9e06-94f20289a2c4",
   "metadata": {},
   "outputs": [
    {
     "data": {
      "text/html": [
       "<div>\n",
       "<style scoped>\n",
       "    .dataframe tbody tr th:only-of-type {\n",
       "        vertical-align: middle;\n",
       "    }\n",
       "\n",
       "    .dataframe tbody tr th {\n",
       "        vertical-align: top;\n",
       "    }\n",
       "\n",
       "    .dataframe thead th {\n",
       "        text-align: right;\n",
       "    }\n",
       "</style>\n",
       "<table border=\"1\" class=\"dataframe\">\n",
       "  <thead>\n",
       "    <tr style=\"text-align: right;\">\n",
       "      <th></th>\n",
       "      <th>State_Name</th>\n",
       "      <th>District_Name</th>\n",
       "      <th>Crop_Year</th>\n",
       "      <th>Season</th>\n",
       "      <th>Crop</th>\n",
       "      <th>Area</th>\n",
       "      <th>Production</th>\n",
       "    </tr>\n",
       "  </thead>\n",
       "  <tbody>\n",
       "    <tr>\n",
       "      <th>0</th>\n",
       "      <td>Andaman and Nicobar Islands</td>\n",
       "      <td>NICOBARS</td>\n",
       "      <td>2000</td>\n",
       "      <td>Kharif</td>\n",
       "      <td>Andaman and Nicobar Islands</td>\n",
       "      <td>1254.0</td>\n",
       "      <td>2000.0</td>\n",
       "    </tr>\n",
       "    <tr>\n",
       "      <th>1</th>\n",
       "      <td>Andaman and Nicobar Islands</td>\n",
       "      <td>NICOBARS</td>\n",
       "      <td>2000</td>\n",
       "      <td>Kharif</td>\n",
       "      <td>Andaman and Nicobar Islands</td>\n",
       "      <td>2.0</td>\n",
       "      <td>1.0</td>\n",
       "    </tr>\n",
       "    <tr>\n",
       "      <th>2</th>\n",
       "      <td>Andaman and Nicobar Islands</td>\n",
       "      <td>NICOBARS</td>\n",
       "      <td>2000</td>\n",
       "      <td>Kharif</td>\n",
       "      <td>Andaman and Nicobar Islands</td>\n",
       "      <td>102.0</td>\n",
       "      <td>321.0</td>\n",
       "    </tr>\n",
       "    <tr>\n",
       "      <th>3</th>\n",
       "      <td>Andaman and Nicobar Islands</td>\n",
       "      <td>NICOBARS</td>\n",
       "      <td>2000</td>\n",
       "      <td>Whole Year</td>\n",
       "      <td>Andaman and Nicobar Islands</td>\n",
       "      <td>176.0</td>\n",
       "      <td>641.0</td>\n",
       "    </tr>\n",
       "    <tr>\n",
       "      <th>4</th>\n",
       "      <td>Andaman and Nicobar Islands</td>\n",
       "      <td>NICOBARS</td>\n",
       "      <td>2000</td>\n",
       "      <td>Whole Year</td>\n",
       "      <td>Andaman and Nicobar Islands</td>\n",
       "      <td>720.0</td>\n",
       "      <td>165.0</td>\n",
       "    </tr>\n",
       "    <tr>\n",
       "      <th>...</th>\n",
       "      <td>...</td>\n",
       "      <td>...</td>\n",
       "      <td>...</td>\n",
       "      <td>...</td>\n",
       "      <td>...</td>\n",
       "      <td>...</td>\n",
       "      <td>...</td>\n",
       "    </tr>\n",
       "    <tr>\n",
       "      <th>246086</th>\n",
       "      <td>West Bengal</td>\n",
       "      <td>PURULIA</td>\n",
       "      <td>2014</td>\n",
       "      <td>Kharif</td>\n",
       "      <td>West Bengal</td>\n",
       "      <td>306.0</td>\n",
       "      <td>801.0</td>\n",
       "    </tr>\n",
       "    <tr>\n",
       "      <th>246087</th>\n",
       "      <td>West Bengal</td>\n",
       "      <td>PURULIA</td>\n",
       "      <td>2014</td>\n",
       "      <td>Kharif</td>\n",
       "      <td>West Bengal</td>\n",
       "      <td>627.0</td>\n",
       "      <td>463.0</td>\n",
       "    </tr>\n",
       "    <tr>\n",
       "      <th>246088</th>\n",
       "      <td>West Bengal</td>\n",
       "      <td>PURULIA</td>\n",
       "      <td>2014</td>\n",
       "      <td>Whole Year</td>\n",
       "      <td>West Bengal</td>\n",
       "      <td>324.0</td>\n",
       "      <td>16250.0</td>\n",
       "    </tr>\n",
       "    <tr>\n",
       "      <th>246089</th>\n",
       "      <td>West Bengal</td>\n",
       "      <td>PURULIA</td>\n",
       "      <td>2014</td>\n",
       "      <td>Kharif</td>\n",
       "      <td>West Bengal</td>\n",
       "      <td>279151.0</td>\n",
       "      <td>597899.0</td>\n",
       "    </tr>\n",
       "    <tr>\n",
       "      <th>246090</th>\n",
       "      <td>West Bengal</td>\n",
       "      <td>PURULIA</td>\n",
       "      <td>2014</td>\n",
       "      <td>Kharif</td>\n",
       "      <td>West Bengal</td>\n",
       "      <td>175.0</td>\n",
       "      <td>88.0</td>\n",
       "    </tr>\n",
       "  </tbody>\n",
       "</table>\n",
       "<p>238838 rows × 7 columns</p>\n",
       "</div>"
      ],
      "text/plain": [
       "                         State_Name District_Name  Crop_Year      Season  \\\n",
       "0       Andaman and Nicobar Islands      NICOBARS       2000      Kharif   \n",
       "1       Andaman and Nicobar Islands      NICOBARS       2000      Kharif   \n",
       "2       Andaman and Nicobar Islands      NICOBARS       2000      Kharif   \n",
       "3       Andaman and Nicobar Islands      NICOBARS       2000  Whole Year   \n",
       "4       Andaman and Nicobar Islands      NICOBARS       2000  Whole Year   \n",
       "...                             ...           ...        ...         ...   \n",
       "246086                  West Bengal       PURULIA       2014      Kharif   \n",
       "246087                  West Bengal       PURULIA       2014      Kharif   \n",
       "246088                  West Bengal       PURULIA       2014  Whole Year   \n",
       "246089                  West Bengal       PURULIA       2014      Kharif   \n",
       "246090                  West Bengal       PURULIA       2014      Kharif   \n",
       "\n",
       "                               Crop      Area  Production  \n",
       "0       Andaman and Nicobar Islands    1254.0      2000.0  \n",
       "1       Andaman and Nicobar Islands       2.0         1.0  \n",
       "2       Andaman and Nicobar Islands     102.0       321.0  \n",
       "3       Andaman and Nicobar Islands     176.0       641.0  \n",
       "4       Andaman and Nicobar Islands     720.0       165.0  \n",
       "...                             ...       ...         ...  \n",
       "246086                  West Bengal     306.0       801.0  \n",
       "246087                  West Bengal     627.0       463.0  \n",
       "246088                  West Bengal     324.0     16250.0  \n",
       "246089                  West Bengal  279151.0    597899.0  \n",
       "246090                  West Bengal     175.0        88.0  \n",
       "\n",
       "[238838 rows x 7 columns]"
      ]
     },
     "execution_count": 49,
     "metadata": {},
     "output_type": "execute_result"
    }
   ],
   "source": [
    "data\n"
   ]
  },
  {
   "cell_type": "code",
   "execution_count": 50,
   "id": "0b2e1f38-2926-4673-abb9-853b6c1e9c2d",
   "metadata": {},
   "outputs": [],
   "source": [
    "data['Producation_area_factor']= data['Production'] / data['Area']"
   ]
  },
  {
   "cell_type": "code",
   "execution_count": 51,
   "id": "cb8f5ec9-3d2b-47fd-b438-6bfae745407e",
   "metadata": {},
   "outputs": [
    {
     "data": {
      "text/html": [
       "<div>\n",
       "<style scoped>\n",
       "    .dataframe tbody tr th:only-of-type {\n",
       "        vertical-align: middle;\n",
       "    }\n",
       "\n",
       "    .dataframe tbody tr th {\n",
       "        vertical-align: top;\n",
       "    }\n",
       "\n",
       "    .dataframe thead th {\n",
       "        text-align: right;\n",
       "    }\n",
       "</style>\n",
       "<table border=\"1\" class=\"dataframe\">\n",
       "  <thead>\n",
       "    <tr style=\"text-align: right;\">\n",
       "      <th></th>\n",
       "      <th>State_Name</th>\n",
       "      <th>District_Name</th>\n",
       "      <th>Crop_Year</th>\n",
       "      <th>Season</th>\n",
       "      <th>Crop</th>\n",
       "      <th>Area</th>\n",
       "      <th>Production</th>\n",
       "      <th>Producation_area_factor</th>\n",
       "    </tr>\n",
       "  </thead>\n",
       "  <tbody>\n",
       "    <tr>\n",
       "      <th>0</th>\n",
       "      <td>Andaman and Nicobar Islands</td>\n",
       "      <td>NICOBARS</td>\n",
       "      <td>2000</td>\n",
       "      <td>Kharif</td>\n",
       "      <td>Andaman and Nicobar Islands</td>\n",
       "      <td>1254.0</td>\n",
       "      <td>2000.0</td>\n",
       "      <td>1.594896</td>\n",
       "    </tr>\n",
       "    <tr>\n",
       "      <th>1</th>\n",
       "      <td>Andaman and Nicobar Islands</td>\n",
       "      <td>NICOBARS</td>\n",
       "      <td>2000</td>\n",
       "      <td>Kharif</td>\n",
       "      <td>Andaman and Nicobar Islands</td>\n",
       "      <td>2.0</td>\n",
       "      <td>1.0</td>\n",
       "      <td>0.500000</td>\n",
       "    </tr>\n",
       "    <tr>\n",
       "      <th>2</th>\n",
       "      <td>Andaman and Nicobar Islands</td>\n",
       "      <td>NICOBARS</td>\n",
       "      <td>2000</td>\n",
       "      <td>Kharif</td>\n",
       "      <td>Andaman and Nicobar Islands</td>\n",
       "      <td>102.0</td>\n",
       "      <td>321.0</td>\n",
       "      <td>3.147059</td>\n",
       "    </tr>\n",
       "    <tr>\n",
       "      <th>3</th>\n",
       "      <td>Andaman and Nicobar Islands</td>\n",
       "      <td>NICOBARS</td>\n",
       "      <td>2000</td>\n",
       "      <td>Whole Year</td>\n",
       "      <td>Andaman and Nicobar Islands</td>\n",
       "      <td>176.0</td>\n",
       "      <td>641.0</td>\n",
       "      <td>3.642045</td>\n",
       "    </tr>\n",
       "    <tr>\n",
       "      <th>4</th>\n",
       "      <td>Andaman and Nicobar Islands</td>\n",
       "      <td>NICOBARS</td>\n",
       "      <td>2000</td>\n",
       "      <td>Whole Year</td>\n",
       "      <td>Andaman and Nicobar Islands</td>\n",
       "      <td>720.0</td>\n",
       "      <td>165.0</td>\n",
       "      <td>0.229167</td>\n",
       "    </tr>\n",
       "    <tr>\n",
       "      <th>...</th>\n",
       "      <td>...</td>\n",
       "      <td>...</td>\n",
       "      <td>...</td>\n",
       "      <td>...</td>\n",
       "      <td>...</td>\n",
       "      <td>...</td>\n",
       "      <td>...</td>\n",
       "      <td>...</td>\n",
       "    </tr>\n",
       "    <tr>\n",
       "      <th>246086</th>\n",
       "      <td>West Bengal</td>\n",
       "      <td>PURULIA</td>\n",
       "      <td>2014</td>\n",
       "      <td>Kharif</td>\n",
       "      <td>West Bengal</td>\n",
       "      <td>306.0</td>\n",
       "      <td>801.0</td>\n",
       "      <td>2.617647</td>\n",
       "    </tr>\n",
       "    <tr>\n",
       "      <th>246087</th>\n",
       "      <td>West Bengal</td>\n",
       "      <td>PURULIA</td>\n",
       "      <td>2014</td>\n",
       "      <td>Kharif</td>\n",
       "      <td>West Bengal</td>\n",
       "      <td>627.0</td>\n",
       "      <td>463.0</td>\n",
       "      <td>0.738437</td>\n",
       "    </tr>\n",
       "    <tr>\n",
       "      <th>246088</th>\n",
       "      <td>West Bengal</td>\n",
       "      <td>PURULIA</td>\n",
       "      <td>2014</td>\n",
       "      <td>Whole Year</td>\n",
       "      <td>West Bengal</td>\n",
       "      <td>324.0</td>\n",
       "      <td>16250.0</td>\n",
       "      <td>50.154321</td>\n",
       "    </tr>\n",
       "    <tr>\n",
       "      <th>246089</th>\n",
       "      <td>West Bengal</td>\n",
       "      <td>PURULIA</td>\n",
       "      <td>2014</td>\n",
       "      <td>Kharif</td>\n",
       "      <td>West Bengal</td>\n",
       "      <td>279151.0</td>\n",
       "      <td>597899.0</td>\n",
       "      <td>2.141848</td>\n",
       "    </tr>\n",
       "    <tr>\n",
       "      <th>246090</th>\n",
       "      <td>West Bengal</td>\n",
       "      <td>PURULIA</td>\n",
       "      <td>2014</td>\n",
       "      <td>Kharif</td>\n",
       "      <td>West Bengal</td>\n",
       "      <td>175.0</td>\n",
       "      <td>88.0</td>\n",
       "      <td>0.502857</td>\n",
       "    </tr>\n",
       "  </tbody>\n",
       "</table>\n",
       "<p>238838 rows × 8 columns</p>\n",
       "</div>"
      ],
      "text/plain": [
       "                         State_Name District_Name  Crop_Year      Season  \\\n",
       "0       Andaman and Nicobar Islands      NICOBARS       2000      Kharif   \n",
       "1       Andaman and Nicobar Islands      NICOBARS       2000      Kharif   \n",
       "2       Andaman and Nicobar Islands      NICOBARS       2000      Kharif   \n",
       "3       Andaman and Nicobar Islands      NICOBARS       2000  Whole Year   \n",
       "4       Andaman and Nicobar Islands      NICOBARS       2000  Whole Year   \n",
       "...                             ...           ...        ...         ...   \n",
       "246086                  West Bengal       PURULIA       2014      Kharif   \n",
       "246087                  West Bengal       PURULIA       2014      Kharif   \n",
       "246088                  West Bengal       PURULIA       2014  Whole Year   \n",
       "246089                  West Bengal       PURULIA       2014      Kharif   \n",
       "246090                  West Bengal       PURULIA       2014      Kharif   \n",
       "\n",
       "                               Crop      Area  Production  \\\n",
       "0       Andaman and Nicobar Islands    1254.0      2000.0   \n",
       "1       Andaman and Nicobar Islands       2.0         1.0   \n",
       "2       Andaman and Nicobar Islands     102.0       321.0   \n",
       "3       Andaman and Nicobar Islands     176.0       641.0   \n",
       "4       Andaman and Nicobar Islands     720.0       165.0   \n",
       "...                             ...       ...         ...   \n",
       "246086                  West Bengal     306.0       801.0   \n",
       "246087                  West Bengal     627.0       463.0   \n",
       "246088                  West Bengal     324.0     16250.0   \n",
       "246089                  West Bengal  279151.0    597899.0   \n",
       "246090                  West Bengal     175.0        88.0   \n",
       "\n",
       "        Producation_area_factor  \n",
       "0                      1.594896  \n",
       "1                      0.500000  \n",
       "2                      3.147059  \n",
       "3                      3.642045  \n",
       "4                      0.229167  \n",
       "...                         ...  \n",
       "246086                 2.617647  \n",
       "246087                 0.738437  \n",
       "246088                50.154321  \n",
       "246089                 2.141848  \n",
       "246090                 0.502857  \n",
       "\n",
       "[238838 rows x 8 columns]"
      ]
     },
     "execution_count": 51,
     "metadata": {},
     "output_type": "execute_result"
    }
   ],
   "source": [
    "data"
   ]
  },
  {
   "cell_type": "code",
   "execution_count": 52,
   "id": "024af1ca-ca69-4b9c-822f-f53e90f0acf7",
   "metadata": {},
   "outputs": [
    {
     "data": {
      "text/plain": [
       "(91.0, 4700.0)"
      ]
     },
     "execution_count": 52,
     "metadata": {},
     "output_type": "execute_result"
    }
   ],
   "source": [
    "Q1 = data['Area'].quantile(0.25)\n",
    "Q3 = data['Area'].quantile(0.75)\n",
    "Q1, Q3"
   ]
  },
  {
   "cell_type": "code",
   "execution_count": 53,
   "id": "cab05d0b-b27c-435c-aa5c-d27fd13a1b30",
   "metadata": {},
   "outputs": [],
   "source": [
    "IQR = Q3 - Q1 "
   ]
  },
  {
   "cell_type": "code",
   "execution_count": 54,
   "id": "4747ff9b-58fe-46b3-8da5-67cf05211973",
   "metadata": {},
   "outputs": [
    {
     "data": {
      "text/plain": [
       "(-6822.5, 11613.5)"
      ]
     },
     "execution_count": 54,
     "metadata": {},
     "output_type": "execute_result"
    }
   ],
   "source": [
    "lower_limit = Q1 - 1.5*IQR\n",
    "upper_limit = Q3 + 1.5*IQR\n",
    "lower_limit,upper_limit"
   ]
  },
  {
   "cell_type": "code",
   "execution_count": 55,
   "id": "a6390b1c-601c-4a01-bafe-9b263dc56e82",
   "metadata": {},
   "outputs": [],
   "source": [
    "area_outlier = data[(data['Area'] < lower_limit) | (data['Area'] > upper_limit)]"
   ]
  },
  {
   "cell_type": "code",
   "execution_count": 56,
   "id": "6ece8afd-15ab-42e9-9c92-4bd1eee5a827",
   "metadata": {},
   "outputs": [
    {
     "data": {
      "text/plain": [
       "Crop\n",
       "Uttar Pradesh                  5265\n",
       "Madhya Pradesh                 4578\n",
       "Maharashtra                    4279\n",
       "Karnataka                      3708\n",
       "Rajasthan                      2854\n",
       "Bihar                          2255\n",
       "Gujarat                        2104\n",
       "Andhra Pradesh                 1808\n",
       "Tamil Nadu                     1769\n",
       "West Bengal                    1660\n",
       "Telangana                      1380\n",
       "Odisha                         1311\n",
       "Assam                          1185\n",
       "Haryana                        1090\n",
       "Punjab                          933\n",
       "Chhattisgarh                    809\n",
       "Kerala                          562\n",
       "Uttarakhand                     470\n",
       "Himachal Pradesh                261\n",
       "Jammu and Kashmir               254\n",
       "Jharkhand                       152\n",
       "Nagaland                        147\n",
       "Tripura                          80\n",
       "Manipur                          68\n",
       "Meghalaya                        64\n",
       "Arunachal Pradesh                64\n",
       "Goa                              41\n",
       "Sikkim                           38\n",
       "Mizoram                          15\n",
       "Dadra and Nagar Haveli           15\n",
       "Andaman and Nicobar Islands       8\n",
       "Puducherry                        6\n",
       "Name: count, dtype: int64"
      ]
     },
     "execution_count": 56,
     "metadata": {},
     "output_type": "execute_result"
    }
   ],
   "source": [
    "area_outlier['Crop'].value_counts()"
   ]
  },
  {
   "cell_type": "code",
   "execution_count": 57,
   "id": "9405fa08-8a7e-48ff-a074-7ff4de5482c8",
   "metadata": {},
   "outputs": [],
   "source": [
    "West_India= ['Maharashtra','Goa','Gujarat','Dadra and Nagar Haveli']\n",
    "East_India= ['Arunachal Pradesh','Assam','Manipur','Meghalaya','Mizoram','Nagaland','Sikkim','Tripura','West Bengal','Bihar','Odisha','Jharkhand' ]\n",
    "North_India=['Jammu and Kashmir ','Himachal Pradesh','Punjab','Uttarakhand','Haryana','Rajasthan','Uttar Pradesh','Chandigarh','Madhya Pradesh','Chhattisgarh']   # Delhi\n",
    "South_India = ['Andhra Pradesh','Karnataka','Kerala','Tamil Nadu','Telangana','Puducherry']"
   ]
  },
  {
   "cell_type": "code",
   "execution_count": 59,
   "id": "f9e215d1-0c30-4e46-a093-597bb0672ada",
   "metadata": {},
   "outputs": [],
   "source": [
    "zone = []\n",
    "\n",
    "for df in data['State_Name']:\n",
    "    if df in West_India:\n",
    "         zone.append('West India')\n",
    "    elif df in East_India:\n",
    "         zone.append('EastIndia')\n",
    "    elif df in North_India:\n",
    "         zone.append('North India')\n",
    "    elif df in South_India: \n",
    "         zone.append('South India')\n",
    "    else:\n",
    "          zone.append('Union Territory')"
   ]
  },
  {
   "cell_type": "code",
   "execution_count": 61,
   "id": "52102480-ffd9-41bd-bcba-414ee416852f",
   "metadata": {},
   "outputs": [],
   "source": [
    "data['zone'] = zone"
   ]
  },
  {
   "cell_type": "code",
   "execution_count": 62,
   "id": "1f74b862-d302-4330-ae0e-749540d0d3b4",
   "metadata": {},
   "outputs": [
    {
     "data": {
      "text/html": [
       "<div>\n",
       "<style scoped>\n",
       "    .dataframe tbody tr th:only-of-type {\n",
       "        vertical-align: middle;\n",
       "    }\n",
       "\n",
       "    .dataframe tbody tr th {\n",
       "        vertical-align: top;\n",
       "    }\n",
       "\n",
       "    .dataframe thead th {\n",
       "        text-align: right;\n",
       "    }\n",
       "</style>\n",
       "<table border=\"1\" class=\"dataframe\">\n",
       "  <thead>\n",
       "    <tr style=\"text-align: right;\">\n",
       "      <th></th>\n",
       "      <th>State_Name</th>\n",
       "      <th>District_Name</th>\n",
       "      <th>Crop_Year</th>\n",
       "      <th>Season</th>\n",
       "      <th>Crop</th>\n",
       "      <th>Area</th>\n",
       "      <th>Production</th>\n",
       "      <th>Producation_area_factor</th>\n",
       "      <th>zone</th>\n",
       "    </tr>\n",
       "  </thead>\n",
       "  <tbody>\n",
       "    <tr>\n",
       "      <th>0</th>\n",
       "      <td>Andaman and Nicobar Islands</td>\n",
       "      <td>NICOBARS</td>\n",
       "      <td>2000</td>\n",
       "      <td>Kharif</td>\n",
       "      <td>Andaman and Nicobar Islands</td>\n",
       "      <td>1254.0</td>\n",
       "      <td>2000.0</td>\n",
       "      <td>1.594896</td>\n",
       "      <td>Union Territory</td>\n",
       "    </tr>\n",
       "    <tr>\n",
       "      <th>1</th>\n",
       "      <td>Andaman and Nicobar Islands</td>\n",
       "      <td>NICOBARS</td>\n",
       "      <td>2000</td>\n",
       "      <td>Kharif</td>\n",
       "      <td>Andaman and Nicobar Islands</td>\n",
       "      <td>2.0</td>\n",
       "      <td>1.0</td>\n",
       "      <td>0.500000</td>\n",
       "      <td>Union Territory</td>\n",
       "    </tr>\n",
       "    <tr>\n",
       "      <th>2</th>\n",
       "      <td>Andaman and Nicobar Islands</td>\n",
       "      <td>NICOBARS</td>\n",
       "      <td>2000</td>\n",
       "      <td>Kharif</td>\n",
       "      <td>Andaman and Nicobar Islands</td>\n",
       "      <td>102.0</td>\n",
       "      <td>321.0</td>\n",
       "      <td>3.147059</td>\n",
       "      <td>Union Territory</td>\n",
       "    </tr>\n",
       "    <tr>\n",
       "      <th>3</th>\n",
       "      <td>Andaman and Nicobar Islands</td>\n",
       "      <td>NICOBARS</td>\n",
       "      <td>2000</td>\n",
       "      <td>Whole Year</td>\n",
       "      <td>Andaman and Nicobar Islands</td>\n",
       "      <td>176.0</td>\n",
       "      <td>641.0</td>\n",
       "      <td>3.642045</td>\n",
       "      <td>Union Territory</td>\n",
       "    </tr>\n",
       "    <tr>\n",
       "      <th>4</th>\n",
       "      <td>Andaman and Nicobar Islands</td>\n",
       "      <td>NICOBARS</td>\n",
       "      <td>2000</td>\n",
       "      <td>Whole Year</td>\n",
       "      <td>Andaman and Nicobar Islands</td>\n",
       "      <td>720.0</td>\n",
       "      <td>165.0</td>\n",
       "      <td>0.229167</td>\n",
       "      <td>Union Territory</td>\n",
       "    </tr>\n",
       "  </tbody>\n",
       "</table>\n",
       "</div>"
      ],
      "text/plain": [
       "                    State_Name District_Name  Crop_Year      Season  \\\n",
       "0  Andaman and Nicobar Islands      NICOBARS       2000      Kharif   \n",
       "1  Andaman and Nicobar Islands      NICOBARS       2000      Kharif   \n",
       "2  Andaman and Nicobar Islands      NICOBARS       2000      Kharif   \n",
       "3  Andaman and Nicobar Islands      NICOBARS       2000  Whole Year   \n",
       "4  Andaman and Nicobar Islands      NICOBARS       2000  Whole Year   \n",
       "\n",
       "                          Crop    Area  Production  Producation_area_factor  \\\n",
       "0  Andaman and Nicobar Islands  1254.0      2000.0                 1.594896   \n",
       "1  Andaman and Nicobar Islands     2.0         1.0                 0.500000   \n",
       "2  Andaman and Nicobar Islands   102.0       321.0                 3.147059   \n",
       "3  Andaman and Nicobar Islands   176.0       641.0                 3.642045   \n",
       "4  Andaman and Nicobar Islands   720.0       165.0                 0.229167   \n",
       "\n",
       "              zone  \n",
       "0  Union Territory  \n",
       "1  Union Territory  \n",
       "2  Union Territory  \n",
       "3  Union Territory  \n",
       "4  Union Territory  "
      ]
     },
     "execution_count": 62,
     "metadata": {},
     "output_type": "execute_result"
    }
   ],
   "source": [
    "data.head()"
   ]
  },
  {
   "cell_type": "code",
   "execution_count": 63,
   "id": "ca13a1b4-a98d-4feb-854b-42addf1b25b1",
   "metadata": {},
   "outputs": [
    {
     "data": {
      "text/plain": [
       "zone\n",
       "North India        92770\n",
       "EastIndia          71529\n",
       "South India        47604\n",
       "West India         21229\n",
       "Union Territory     5706\n",
       "Name: count, dtype: int64"
      ]
     },
     "execution_count": 63,
     "metadata": {},
     "output_type": "execute_result"
    }
   ],
   "source": [
    "data['zone'].value_counts()"
   ]
  },
  {
   "cell_type": "code",
   "execution_count": 64,
   "id": "7d4e0ddc-7061-4129-a7e3-cc33d1d3e837",
   "metadata": {},
   "outputs": [
    {
     "data": {
      "text/plain": [
       "Crop_Year\n",
       "2003    15550\n",
       "2002    15094\n",
       "2007    14269\n",
       "2008    14230\n",
       "2006    13976\n",
       "2004    13834\n",
       "2010    13793\n",
       "2011    13791\n",
       "2009    13767\n",
       "2005    13519\n",
       "2013    13474\n",
       "2000    13401\n",
       "2012    13183\n",
       "2001    13139\n",
       "1999    12282\n",
       "1998    11262\n",
       "2014    10814\n",
       "1997     8899\n",
       "2015      561\n",
       "Name: count, dtype: int64"
      ]
     },
     "execution_count": 64,
     "metadata": {},
     "output_type": "execute_result"
    }
   ],
   "source": [
    "\n",
    "data['Crop_Year'].value_counts()"
   ]
  },
  {
   "cell_type": "code",
   "execution_count": 66,
   "id": "496627ff-60dc-44dc-bb8a-8ef0632bcadf",
   "metadata": {},
   "outputs": [],
   "source": [
    "data.drop(data[data['Crop_Year'] == 2015].index,inplace=True)"
   ]
  },
  {
   "cell_type": "code",
   "execution_count": 67,
   "id": "9e29f462-4033-46f1-aad0-406b9d133794",
   "metadata": {},
   "outputs": [],
   "source": [
    "val=data.groupby('Crop').sum().sort_values(by='Production',ascending = False)['Production'].values\n",
    "lab=data.groupby('Crop').sum().sort_values(by='Production',ascending = False)['Production'].index"
   ]
  },
  {
   "cell_type": "code",
   "execution_count": 68,
   "id": "b534b484-b6c6-4d72-9f7f-b307d3756734",
   "metadata": {},
   "outputs": [
    {
     "data": {
      "image/png": "[encoded data removed]",
      "text/plain": [
       "<Figure size 1000x800 with 1 Axes>"
      ]
     },
     "metadata": {},
     "output_type": "display_data"
    }
   ],
   "source": [
    "plt.figure(figsize=(10,8))\n",
    "plt.pie(val,labels=lab,autopct='%0.1f%%')\n",
    "plt.show()"
   ]
  },
  {
   "cell_type": "code",
   "execution_count": 69,
   "id": "67d1e66f-bdbf-4997-970a-3c76c4684e75",
   "metadata": {},
   "outputs": [],
   "source": [
    "coconut = data[data['Crop'] == 'Coconut']\n",
    "\n",
    "coconut.to_csv('coconut.csv')\n",
    "\n",
    "data.drop(data[data['Crop']=='Coconut'].index,inplace=True)"
   ]
  },
  {
   "cell_type": "code",
   "execution_count": 70,
   "id": "82ebdd34-13a9-4d51-9960-f5e66bf9ce25",
   "metadata": {},
   "outputs": [],
   "source": [
    "val=data.groupby('Crop').sum().sort_values(by='Production',ascending = False)['Production'].values\n",
    "lab=data.groupby('Crop').sum().sort_values(by='Production',ascending = False)['Production'].index"
   ]
  },
  {
   "cell_type": "code",
   "execution_count": 71,
   "id": "ceb50162-5ab1-44e7-b8f4-1d765d485cf7",
   "metadata": {},
   "outputs": [
    {
     "data": {
      "image/png": "[encoded data removed]",
      "text/plain": [
       "<Figure size 1000x800 with 1 Axes>"
      ]
     },
     "metadata": {},
     "output_type": "display_data"
    }
   ],
   "source": [
    "plt.figure(figsize=(10,8))\n",
    "plt.pie(val,labels=lab,autopct='%0.1f%%')\n",
    "plt.show()"
   ]
  },
  {
   "cell_type": "markdown",
   "id": "fc627c63-643c-4ef9-990e-39fcf685e912",
   "metadata": {},
   "source": [
    "**Conclusion**\n"
   ]
  },
  {
   "cell_type": "code",
   "execution_count": 72,
   "id": "70cf070a-e8a2-4e4b-a839-5f1b6e93399f",
   "metadata": {},
   "outputs": [],
   "source": [
    "# Since we have found out that number of outliers are almost approx 20% and 46000k in numbers so we can not remove these outliers\n",
    "# to avoide loss of information and producation also depends types soil and area,availability of water to farmer\n",
    "# so we dont have much information about these other factors so we cant not remove outliers on basis of Producation_area_factor  \n",
    "# Producation_area_factor can not be same for all crops sinces this factors is hihh for coconut and very less for total_foodgrain\n",
    "# so we cant not compare both on one scale\n",
    "# we have observed that Production of coconut is more than 92% of total Production so we not able to visualize our dataset\n",
    "# so we have decided to consider coconut as an outlier and we have removed it from dataset"
   ]
  },
  {
   "cell_type": "code",
   "execution_count": null,
   "id": "edeb899b-f79e-4686-aec4-7ce03134884e",
   "metadata": {},
   "outputs": [],
   "source": []
  }
 ],
 "metadata": {
  "kernelspec": {
   "display_name": "Python 3 (ipykernel)",
   "language": "python",
   "name": "python3"
  },
  "language_info": {
   "codemirror_mode": {
    "name": "ipython",
    "version": 3
   },
   "file_extension": ".py",
   "mimetype": "text/x-python",
   "name": "python",
   "nbconvert_exporter": "python",
   "pygments_lexer": "ipython3",
   "version": "3.10.3"
  }
 },
 "nbformat": 4,
 "nbformat_minor": 5
}
